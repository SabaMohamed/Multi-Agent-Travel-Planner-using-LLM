{
 "cells": [
  {
   "cell_type": "code",
   "execution_count": 1,
   "id": "9960f0ae-97a2-4b5b-9c50-8e800109310b",
   "metadata": {
    "execution": {
     "iopub.execute_input": "2025-05-02T22:11:11.244919Z",
     "iopub.status.busy": "2025-05-02T22:11:11.244765Z",
     "iopub.status.idle": "2025-05-02T22:11:21.603768Z",
     "shell.execute_reply": "2025-05-02T22:11:21.602980Z",
     "shell.execute_reply.started": "2025-05-02T22:11:11.244903Z"
    },
    "trusted": true
   },
   "outputs": [
    {
     "name": "stdout",
     "output_type": "stream",
     "text": [
      "Requirement already satisfied: langchain in /usr/local/lib/python3.11/dist-packages (0.3.18)\n",
      "Collecting langchain\n",
      "  Downloading langchain-0.3.25-py3-none-any.whl.metadata (7.8 kB)\n",
      "Collecting langgraph\n",
      "  Downloading langgraph-0.4.1-py3-none-any.whl.metadata (7.9 kB)\n",
      "Collecting langchain-openai\n",
      "  Downloading langchain_openai-0.3.16-py3-none-any.whl.metadata (2.3 kB)\n",
      "Collecting langchain-core<1.0.0,>=0.3.58 (from langchain)\n",
      "  Downloading langchain_core-0.3.58-py3-none-any.whl.metadata (5.9 kB)\n",
      "Collecting langchain-text-splitters<1.0.0,>=0.3.8 (from langchain)\n",
      "  Downloading langchain_text_splitters-0.3.8-py3-none-any.whl.metadata (1.9 kB)\n",
      "Requirement already satisfied: langsmith<0.4,>=0.1.17 in /usr/local/lib/python3.11/dist-packages (from langchain) (0.3.8)\n",
      "Requirement already satisfied: pydantic<3.0.0,>=2.7.4 in /usr/local/lib/python3.11/dist-packages (from langchain) (2.11.3)\n",
      "Requirement already satisfied: SQLAlchemy<3,>=1.4 in /usr/local/lib/python3.11/dist-packages (from langchain) (2.0.38)\n",
      "Requirement already satisfied: requests<3,>=2 in /usr/local/lib/python3.11/dist-packages (from langchain) (2.32.3)\n",
      "Requirement already satisfied: PyYAML>=5.3 in /usr/local/lib/python3.11/dist-packages (from langchain) (6.0.2)\n",
      "Collecting langgraph-checkpoint<3.0.0,>=2.0.10 (from langgraph)\n",
      "  Downloading langgraph_checkpoint-2.0.25-py3-none-any.whl.metadata (4.6 kB)\n",
      "Collecting langgraph-prebuilt>=0.1.8 (from langgraph)\n",
      "  Downloading langgraph_prebuilt-0.1.8-py3-none-any.whl.metadata (5.0 kB)\n",
      "Collecting langgraph-sdk>=0.1.42 (from langgraph)\n",
      "  Downloading langgraph_sdk-0.1.66-py3-none-any.whl.metadata (1.8 kB)\n",
      "Requirement already satisfied: xxhash<4.0.0,>=3.5.0 in /usr/local/lib/python3.11/dist-packages (from langgraph) (3.5.0)\n",
      "Collecting openai<2.0.0,>=1.68.2 (from langchain-openai)\n",
      "  Downloading openai-1.77.0-py3-none-any.whl.metadata (25 kB)\n",
      "Requirement already satisfied: tiktoken<1,>=0.7 in /usr/local/lib/python3.11/dist-packages (from langchain-openai) (0.9.0)\n",
      "Requirement already satisfied: tenacity!=8.4.0,<10.0.0,>=8.1.0 in /usr/local/lib/python3.11/dist-packages (from langchain-core<1.0.0,>=0.3.58->langchain) (9.0.0)\n",
      "Requirement already satisfied: jsonpatch<2.0,>=1.33 in /usr/local/lib/python3.11/dist-packages (from langchain-core<1.0.0,>=0.3.58->langchain) (1.33)\n",
      "Requirement already satisfied: packaging<25,>=23.2 in /usr/local/lib/python3.11/dist-packages (from langchain-core<1.0.0,>=0.3.58->langchain) (24.2)\n",
      "Requirement already satisfied: typing-extensions>=4.7 in /usr/local/lib/python3.11/dist-packages (from langchain-core<1.0.0,>=0.3.58->langchain) (4.13.1)\n",
      "Collecting ormsgpack<2.0.0,>=1.8.0 (from langgraph-checkpoint<3.0.0,>=2.0.10->langgraph)\n",
      "  Downloading ormsgpack-1.9.1-cp311-cp311-manylinux_2_17_x86_64.manylinux2014_x86_64.whl.metadata (43 kB)\n",
      "\u001b[2K     \u001b[90m━━━━━━━━━━━━━━━━━━━━━━━━━━━━━━━━━━━━━━━━\u001b[0m \u001b[32m43.5/43.5 kB\u001b[0m \u001b[31m2.2 MB/s\u001b[0m eta \u001b[36m0:00:00\u001b[0m\n",
      "\u001b[?25hRequirement already satisfied: httpx>=0.25.2 in /usr/local/lib/python3.11/dist-packages (from langgraph-sdk>=0.1.42->langgraph) (0.28.1)\n",
      "Requirement already satisfied: orjson>=3.10.1 in /usr/local/lib/python3.11/dist-packages (from langgraph-sdk>=0.1.42->langgraph) (3.10.15)\n",
      "Requirement already satisfied: requests-toolbelt<2.0.0,>=1.0.0 in /usr/local/lib/python3.11/dist-packages (from langsmith<0.4,>=0.1.17->langchain) (1.0.0)\n",
      "Requirement already satisfied: zstandard<0.24.0,>=0.23.0 in /usr/local/lib/python3.11/dist-packages (from langsmith<0.4,>=0.1.17->langchain) (0.23.0)\n",
      "Requirement already satisfied: anyio<5,>=3.5.0 in /usr/local/lib/python3.11/dist-packages (from openai<2.0.0,>=1.68.2->langchain-openai) (3.7.1)\n",
      "Requirement already satisfied: distro<2,>=1.7.0 in /usr/local/lib/python3.11/dist-packages (from openai<2.0.0,>=1.68.2->langchain-openai) (1.9.0)\n",
      "Requirement already satisfied: jiter<1,>=0.4.0 in /usr/local/lib/python3.11/dist-packages (from openai<2.0.0,>=1.68.2->langchain-openai) (0.8.2)\n",
      "Requirement already satisfied: sniffio in /usr/local/lib/python3.11/dist-packages (from openai<2.0.0,>=1.68.2->langchain-openai) (1.3.1)\n",
      "Requirement already satisfied: tqdm>4 in /usr/local/lib/python3.11/dist-packages (from openai<2.0.0,>=1.68.2->langchain-openai) (4.67.1)\n",
      "Requirement already satisfied: annotated-types>=0.6.0 in /usr/local/lib/python3.11/dist-packages (from pydantic<3.0.0,>=2.7.4->langchain) (0.7.0)\n",
      "Requirement already satisfied: pydantic-core==2.33.1 in /usr/local/lib/python3.11/dist-packages (from pydantic<3.0.0,>=2.7.4->langchain) (2.33.1)\n",
      "Requirement already satisfied: typing-inspection>=0.4.0 in /usr/local/lib/python3.11/dist-packages (from pydantic<3.0.0,>=2.7.4->langchain) (0.4.0)\n",
      "Requirement already satisfied: charset-normalizer<4,>=2 in /usr/local/lib/python3.11/dist-packages (from requests<3,>=2->langchain) (3.4.1)\n",
      "Requirement already satisfied: idna<4,>=2.5 in /usr/local/lib/python3.11/dist-packages (from requests<3,>=2->langchain) (3.10)\n",
      "Requirement already satisfied: urllib3<3,>=1.21.1 in /usr/local/lib/python3.11/dist-packages (from requests<3,>=2->langchain) (2.3.0)\n",
      "Requirement already satisfied: certifi>=2017.4.17 in /usr/local/lib/python3.11/dist-packages (from requests<3,>=2->langchain) (2025.1.31)\n",
      "Requirement already satisfied: greenlet!=0.4.17 in /usr/local/lib/python3.11/dist-packages (from SQLAlchemy<3,>=1.4->langchain) (3.1.1)\n",
      "Requirement already satisfied: regex>=2022.1.18 in /usr/local/lib/python3.11/dist-packages (from tiktoken<1,>=0.7->langchain-openai) (2024.11.6)\n",
      "Requirement already satisfied: httpcore==1.* in /usr/local/lib/python3.11/dist-packages (from httpx>=0.25.2->langgraph-sdk>=0.1.42->langgraph) (1.0.7)\n",
      "Requirement already satisfied: h11<0.15,>=0.13 in /usr/local/lib/python3.11/dist-packages (from httpcore==1.*->httpx>=0.25.2->langgraph-sdk>=0.1.42->langgraph) (0.14.0)\n",
      "Requirement already satisfied: jsonpointer>=1.9 in /usr/local/lib/python3.11/dist-packages (from jsonpatch<2.0,>=1.33->langchain-core<1.0.0,>=0.3.58->langchain) (3.0.0)\n",
      "Downloading langchain-0.3.25-py3-none-any.whl (1.0 MB)\n",
      "\u001b[2K   \u001b[90m━━━━━━━━━━━━━━━━━━━━━━━━━━━━━━━━━━━━━━━━\u001b[0m \u001b[32m1.0/1.0 MB\u001b[0m \u001b[31m16.3 MB/s\u001b[0m eta \u001b[36m0:00:00\u001b[0ma \u001b[36m0:00:01\u001b[0m\n",
      "\u001b[?25hDownloading langgraph-0.4.1-py3-none-any.whl (151 kB)\n",
      "\u001b[2K   \u001b[90m━━━━━━━━━━━━━━━━━━━━━━━━━━━━━━━━━━━━━━━━\u001b[0m \u001b[32m151.2/151.2 kB\u001b[0m \u001b[31m9.7 MB/s\u001b[0m eta \u001b[36m0:00:00\u001b[0m\n",
      "\u001b[?25hDownloading langchain_openai-0.3.16-py3-none-any.whl (62 kB)\n",
      "\u001b[2K   \u001b[90m━━━━━━━━━━━━━━━━━━━━━━━━━━━━━━━━━━━━━━━━\u001b[0m \u001b[32m62.8/62.8 kB\u001b[0m \u001b[31m4.5 MB/s\u001b[0m eta \u001b[36m0:00:00\u001b[0m\n",
      "\u001b[?25hDownloading langchain_core-0.3.58-py3-none-any.whl (437 kB)\n",
      "\u001b[2K   \u001b[90m━━━━━━━━━━━━━━━━━━━━━━━━━━━━━━━━━━━━━━━━\u001b[0m \u001b[32m437.6/437.6 kB\u001b[0m \u001b[31m25.3 MB/s\u001b[0m eta \u001b[36m0:00:00\u001b[0m\n",
      "\u001b[?25hDownloading langchain_text_splitters-0.3.8-py3-none-any.whl (32 kB)\n",
      "Downloading langgraph_checkpoint-2.0.25-py3-none-any.whl (42 kB)\n",
      "\u001b[2K   \u001b[90m━━━━━━━━━━━━━━━━━━━━━━━━━━━━━━━━━━━━━━━━\u001b[0m \u001b[32m42.3/42.3 kB\u001b[0m \u001b[31m2.4 MB/s\u001b[0m eta \u001b[36m0:00:00\u001b[0m\n",
      "\u001b[?25hDownloading langgraph_prebuilt-0.1.8-py3-none-any.whl (25 kB)\n",
      "Downloading langgraph_sdk-0.1.66-py3-none-any.whl (47 kB)\n",
      "\u001b[2K   \u001b[90m━━━━━━━━━━━━━━━━━━━━━━━━━━━━━━━━━━━━━━━━\u001b[0m \u001b[32m47.6/47.6 kB\u001b[0m \u001b[31m3.3 MB/s\u001b[0m eta \u001b[36m0:00:00\u001b[0m\n",
      "\u001b[?25hDownloading openai-1.77.0-py3-none-any.whl (662 kB)\n",
      "\u001b[2K   \u001b[90m━━━━━━━━━━━━━━━━━━━━━━━━━━━━━━━━━━━━━━━━\u001b[0m \u001b[32m662.0/662.0 kB\u001b[0m \u001b[31m36.4 MB/s\u001b[0m eta \u001b[36m0:00:00\u001b[0m\n",
      "\u001b[?25hDownloading ormsgpack-1.9.1-cp311-cp311-manylinux_2_17_x86_64.manylinux2014_x86_64.whl (223 kB)\n",
      "\u001b[2K   \u001b[90m━━━━━━━━━━━━━━━━━━━━━━━━━━━━━━━━━━━━━━━━\u001b[0m \u001b[32m223.6/223.6 kB\u001b[0m \u001b[31m14.9 MB/s\u001b[0m eta \u001b[36m0:00:00\u001b[0m\n",
      "\u001b[?25hInstalling collected packages: ormsgpack, openai, langgraph-sdk, langchain-core, langgraph-checkpoint, langchain-text-splitters, langchain-openai, langgraph-prebuilt, langchain, langgraph\n",
      "  Attempting uninstall: openai\n",
      "    Found existing installation: openai 1.61.1\n",
      "    Uninstalling openai-1.61.1:\n",
      "      Successfully uninstalled openai-1.61.1\n",
      "  Attempting uninstall: langchain-core\n",
      "    Found existing installation: langchain-core 0.3.35\n",
      "    Uninstalling langchain-core-0.3.35:\n",
      "      Successfully uninstalled langchain-core-0.3.35\n",
      "  Attempting uninstall: langchain-text-splitters\n",
      "    Found existing installation: langchain-text-splitters 0.3.6\n",
      "    Uninstalling langchain-text-splitters-0.3.6:\n",
      "      Successfully uninstalled langchain-text-splitters-0.3.6\n",
      "  Attempting uninstall: langchain\n",
      "    Found existing installation: langchain 0.3.18\n",
      "    Uninstalling langchain-0.3.18:\n",
      "      Successfully uninstalled langchain-0.3.18\n",
      "Successfully installed langchain-0.3.25 langchain-core-0.3.58 langchain-openai-0.3.16 langchain-text-splitters-0.3.8 langgraph-0.4.1 langgraph-checkpoint-2.0.25 langgraph-prebuilt-0.1.8 langgraph-sdk-0.1.66 openai-1.77.0 ormsgpack-1.9.1\n",
      "Note: you may need to restart the kernel to use updated packages.\n"
     ]
    }
   ],
   "source": [
    "pip install --upgrade langchain langgraph langchain-openai"
   ]
  },
  {
   "cell_type": "markdown",
   "id": "e37db071",
   "metadata": {},
   "source": [
    "# The Imports"
   ]
  },
  {
   "cell_type": "code",
   "execution_count": 2,
   "id": "2bb81c68-aa52-428c-8492-0f5c2055fe4c",
   "metadata": {
    "execution": {
     "iopub.execute_input": "2025-05-02T22:11:35.908986Z",
     "iopub.status.busy": "2025-05-02T22:11:35.908721Z",
     "iopub.status.idle": "2025-05-02T22:11:37.709472Z",
     "shell.execute_reply": "2025-05-02T22:11:37.708952Z",
     "shell.execute_reply.started": "2025-05-02T22:11:35.908962Z"
    },
    "trusted": true
   },
   "outputs": [],
   "source": [
    "import os\n",
    "from langchain.schema import SystemMessage, HumanMessage\n",
    "from langgraph.graph import StateGraph, END\n",
    "from typing import TypedDict, List\n",
    "import re\n",
    "from langchain_openai import ChatOpenAI"
   ]
  },
  {
   "cell_type": "code",
   "execution_count": 3,
   "id": "4d76b76f-b976-49ba-bdeb-6a249583db5d",
   "metadata": {
    "execution": {
     "iopub.execute_input": "2025-05-02T22:11:50.531577Z",
     "iopub.status.busy": "2025-05-02T22:11:50.531154Z",
     "iopub.status.idle": "2025-05-02T22:11:50.535160Z",
     "shell.execute_reply": "2025-05-02T22:11:50.534442Z",
     "shell.execute_reply.started": "2025-05-02T22:11:50.531554Z"
    },
    "trusted": true
   },
   "outputs": [],
   "source": [
    "# This line sets an environment variable to store the API key.\n",
    "os.environ['OPENROUTER_API_KEY'] = \"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\""
   ]
  },
  {
   "cell_type": "markdown",
   "id": "d8eb39da",
   "metadata": {},
   "source": [
    "# Defining the State "
   ]
  },
  {
   "cell_type": "code",
   "execution_count": 4,
   "id": "e206b8ef-8289-4cde-b4b3-a2b0053c45cd",
   "metadata": {
    "execution": {
     "iopub.execute_input": "2025-05-02T22:12:02.609806Z",
     "iopub.status.busy": "2025-05-02T22:12:02.609239Z",
     "iopub.status.idle": "2025-05-02T22:12:02.613418Z",
     "shell.execute_reply": "2025-05-02T22:12:02.612741Z",
     "shell.execute_reply.started": "2025-05-02T22:12:02.609782Z"
    },
    "trusted": true
   },
   "outputs": [],
   "source": [
    "class TravelState(TypedDict):\n",
    "    user_query: str\n",
    "    selected_destination: str\n",
    "    trip_itinerary: List[str]\n",
    "    estimated_cost: float\n",
    "    user_budget: float"
   ]
  },
  {
   "cell_type": "markdown",
   "id": "dce48efe",
   "metadata": {},
   "source": [
    "# The Memory Class\n",
    "This class is a simple memory system for the chat, it helps the AI to remember the last few things the user or system said."
   ]
  },
  {
   "cell_type": "code",
   "execution_count": 6,
   "id": "ab613785-d69a-4a2a-a37c-1154a8437e02",
   "metadata": {
    "execution": {
     "iopub.execute_input": "2025-05-02T22:13:24.989602Z",
     "iopub.status.busy": "2025-05-02T22:13:24.989316Z",
     "iopub.status.idle": "2025-05-02T22:13:24.993909Z",
     "shell.execute_reply": "2025-05-02T22:13:24.993284Z",
     "shell.execute_reply.started": "2025-05-02T22:13:24.989580Z"
    },
    "trusted": true
   },
   "outputs": [],
   "source": [
    "class AgentMemory:\n",
    "    def __init__(self):\n",
    "        self.chat_log = []\n",
    "    \n",
    "    def update(self, message: str):\n",
    "        self.chat_log.append(message)\n",
    "    \n",
    "    def get_context(self, n=5):\n",
    "        return \"\\n\".join(self.chat_log[-n:])\n",
    "\n",
    "memory = AgentMemory()"
   ]
  },
  {
   "cell_type": "code",
   "execution_count": null,
   "id": "c81540bc-a6e7-4ea7-904b-12a004d8ca83",
   "metadata": {
    "execution": {
     "iopub.execute_input": "2025-05-02T22:13:44.336807Z",
     "iopub.status.busy": "2025-05-02T22:13:44.336153Z",
     "iopub.status.idle": "2025-05-02T22:13:44.340498Z",
     "shell.execute_reply": "2025-05-02T22:13:44.339895Z",
     "shell.execute_reply.started": "2025-05-02T22:13:44.336781Z"
    },
    "trusted": true
   },
   "outputs": [],
   "source": [
    "# LLM Configuration\n",
    "def get_llm(model: str = \"anthropic/claude-3-haiku\", temp: float = 0.2):\n",
    "    return ChatOpenAI(\n",
    "        openai_api_key=os.environ['OPENROUTER_API_KEY'],\n",
    "        openai_api_base=\"https://openrouter.ai/api/v1\",\n",
    "        model=model,\n",
    "        temperature=temp,\n",
    "        max_retries=3,\n",
    "        timeout=30\n",
    "    )"
   ]
  },
  {
   "cell_type": "code",
   "execution_count": null,
   "id": "8b82cfff-5a80-4294-b83d-57aecff30a48",
   "metadata": {
    "execution": {
     "iopub.execute_input": "2025-05-02T22:14:25.605894Z",
     "iopub.status.busy": "2025-05-02T22:14:25.605299Z",
     "iopub.status.idle": "2025-05-02T22:14:25.611678Z",
     "shell.execute_reply": "2025-05-02T22:14:25.611075Z",
     "shell.execute_reply.started": "2025-05-02T22:14:25.605860Z"
    },
    "trusted": true
   },
   "outputs": [],
   "source": [
    "# Agent 1: Destination Confirmation\n",
    "def recommend_destination(state: TravelState) -> TravelState:\n",
    "    city_match = re.search(r\"City: (.*?)\\. Interests:\", state['user_query'])\n",
    "    if city_match:\n",
    "        city = city_match.group(1).strip()\n",
    "        if city and len(city.split()) < 4:\n",
    "            memory.update(f\"Confirmed destination: {city}\")\n",
    "            return {**state, \"selected_destination\": city}\n",
    "    \n",
    "    prompt = f\"\"\"User interests: {state['user_query']}\n",
    "    Budget: ${state['user_budget']}\n",
    "    Should we recommend a specific city? Only if user didn't specify one.\"\"\"\n",
    "    \n",
    "    llm = get_llm(\"gpt-3.5-turbo\", 0.2)\n",
    "    response = llm.invoke([\n",
    "        SystemMessage(content=\"Only recommend cities if the user didn't specify one.\"),\n",
    "        HumanMessage(content=prompt)\n",
    "    ]).content\n",
    "    \n",
    "    if \"no\" in response.lower():\n",
    "        return state\n",
    "    \n",
    "    destination = response.split(\":\")[-1].split(\".\")[0].strip()\n",
    "    memory.update(f\"Recommended: {destination}\")\n",
    "    return {**state, \"selected_destination\": destination}"
   ]
  },
  {
   "cell_type": "code",
   "execution_count": null,
   "id": "380f213f-0325-425b-af2d-0f9d05f16eba",
   "metadata": {
    "execution": {
     "iopub.execute_input": "2025-05-02T22:14:45.636268Z",
     "iopub.status.busy": "2025-05-02T22:14:45.635603Z",
     "iopub.status.idle": "2025-05-02T22:14:45.640881Z",
     "shell.execute_reply": "2025-05-02T22:14:45.640078Z",
     "shell.execute_reply.started": "2025-05-02T22:14:45.636244Z"
    },
    "trusted": true
   },
   "outputs": [],
   "source": [
    "# Agent 2: Itinerary Planner\n",
    "def plan_itinerary(state: TravelState) -> TravelState:\n",
    "    if not state[\"selected_destination\"]:\n",
    "        raise ValueError(\"No destination selected!\")\n",
    "    prompt = f\"\"\"Create a 3-day itinerary EXCLUSIVELY for {state['selected_destination']}.\n",
    "    ABSOLUTELY DO NOT SUGGEST OTHER CITIES.\n",
    "    User interests: {state['user_query']}\n",
    "    Budget: ${state['user_budget']}\n",
    "    Requirements:\n",
    "    1. Focus ONLY on {state['selected_destination']}\n",
    "    2. Provide detailed daily plans\n",
    "    3. Never mention other cities\"\"\"\n",
    "    \n",
    "    llm = get_llm(\"gpt-3.5-turbo\", 0.2)\n",
    "    itinerary = llm.invoke([\n",
    "        SystemMessage(content=\"You are a precise travel planner who strictly follows destination requirements.\"),\n",
    "        HumanMessage(content=prompt)\n",
    "    ]).content\n",
    "    \n",
    "    memory.update(f\"Itinerary for {state['selected_destination']}\")\n",
    "    return {**state, \"trip_itinerary\": [itinerary]}"
   ]
  },
  {
   "cell_type": "code",
   "execution_count": null,
   "id": "5f9d0b62-da45-44c2-80b0-152752a4caad",
   "metadata": {
    "execution": {
     "iopub.execute_input": "2025-05-02T22:16:42.182374Z",
     "iopub.status.busy": "2025-05-02T22:16:42.181673Z",
     "iopub.status.idle": "2025-05-02T22:16:42.186881Z",
     "shell.execute_reply": "2025-05-02T22:16:42.186283Z",
     "shell.execute_reply.started": "2025-05-02T22:16:42.182349Z"
    },
    "trusted": true
   },
   "outputs": [],
   "source": [
    "# Agent 3: Cost Estimator\n",
    "def estimate_expenses(state: TravelState) -> TravelState:\n",
    "    prompt = f\"\"\"Calculate total cost for this {state['selected_destination']} trip:\n",
    "    Itinerary: {state['trip_itinerary'][0]}\n",
    "    Budget: ${state['user_budget']}\n",
    "    Return ONLY the format: TOTAL COST: $X,XXX\"\"\"\n",
    "    \n",
    "    llm = get_llm(\"mistralai/mixtral-8x7b-instruct\", 0.2)\n",
    "    response = llm.invoke([\n",
    "        SystemMessage(content=\"You are a precise travel cost estimator.\"),\n",
    "        HumanMessage(content=prompt)\n",
    "    ]).content\n",
    "    \n",
    "    cost_match = re.search(r\"\\$([\\d,]+)\", response.replace(\",\", \"\"))\n",
    "    cost = float(cost_match.group(1)) if cost_match else state['user_budget'] * 0.7\n",
    "    memory.update(f\"Estimated cost: ${cost}\")\n",
    "    return {**state, \"estimated_cost\": cost}"
   ]
  },
  {
   "cell_type": "code",
   "execution_count": null,
   "id": "cbdad084-41f2-430b-9c67-945935f9f477",
   "metadata": {
    "execution": {
     "iopub.execute_input": "2025-05-02T22:16:54.261435Z",
     "iopub.status.busy": "2025-05-02T22:16:54.261179Z",
     "iopub.status.idle": "2025-05-02T22:16:54.265792Z",
     "shell.execute_reply": "2025-05-02T22:16:54.264982Z",
     "shell.execute_reply.started": "2025-05-02T22:16:54.261416Z"
    },
    "trusted": true
   },
   "outputs": [],
   "source": [
    "# Agent 4: Real-Time Travel Assistant\n",
    "def real_time_assistant(state: TravelState, user_message: str) -> str:\n",
    "    prompt = f\"\"\"You are a real-time travel assistant for a trip to {state['selected_destination']}.\n",
    "The user may ask about directions, places to eat, nearby attractions, transport options, or emergency tips.\n",
    "Be friendly, helpful, and context-aware.\n",
    "\n",
    "Chat History:\n",
    "{memory.get_context()}\n",
    "\n",
    "User Message: {user_message}\n",
    "\"\"\"\n",
    "    llm = get_llm(\"gpt-3.5-turbo\", 0.2)\n",
    "    response = llm.invoke([\n",
    "        SystemMessage(content=\"You are a helpful real-time travel assistant.\"),\n",
    "        HumanMessage(content=prompt)\n",
    "    ]).content\n",
    "    memory.update(f\"User asked: {user_message}\\nAssistant replied: {response}\")\n",
    "    return response"
   ]
  },
  {
   "cell_type": "code",
   "execution_count": 12,
   "id": "f52ae704-e7be-4faf-a1a9-3d988b084826",
   "metadata": {
    "execution": {
     "iopub.execute_input": "2025-05-02T22:17:07.725145Z",
     "iopub.status.busy": "2025-05-02T22:17:07.724848Z",
     "iopub.status.idle": "2025-05-02T22:17:07.729652Z",
     "shell.execute_reply": "2025-05-02T22:17:07.728938Z",
     "shell.execute_reply.started": "2025-05-02T22:17:07.725123Z"
    },
    "trusted": true
   },
   "outputs": [],
   "source": [
    "# Build LangGraph Workflow\n",
    "def build_workflow():\n",
    "    workflow = StateGraph(TravelState)\n",
    "    workflow.add_node(\"recommend_dest\", recommend_destination)\n",
    "    workflow.add_node(\"plan_trip\", plan_itinerary)\n",
    "    workflow.add_node(\"calculate_cost\", estimate_expenses)\n",
    "    workflow.set_entry_point(\"recommend_dest\")\n",
    "    workflow.add_edge(\"recommend_dest\", \"plan_trip\")\n",
    "    workflow.add_edge(\"plan_trip\", \"calculate_cost\")\n",
    "    workflow.add_edge(\"calculate_cost\", END)\n",
    "    return workflow.compile()"
   ]
  },
  {
   "cell_type": "code",
   "execution_count": 13,
   "id": "c7bd09d4-0ee6-4369-8832-db818ec22d20",
   "metadata": {
    "execution": {
     "iopub.execute_input": "2025-05-02T22:17:21.742985Z",
     "iopub.status.busy": "2025-05-02T22:17:21.742528Z",
     "iopub.status.idle": "2025-05-02T22:17:22.551992Z",
     "shell.execute_reply": "2025-05-02T22:17:22.551286Z",
     "shell.execute_reply.started": "2025-05-02T22:17:21.742962Z"
    },
    "trusted": true
   },
   "outputs": [
    {
     "data": {
      "image/png": "[encoded data removed]",
      "text/plain": [
       "<langgraph.graph.state.CompiledStateGraph object at 0x780c6f0b28d0>"
      ]
     },
     "execution_count": 13,
     "metadata": {},
     "output_type": "execute_result"
    }
   ],
   "source": [
    "build_workflow()"
   ]
  },
  {
   "cell_type": "code",
   "execution_count": null,
   "id": "fc059d2d-17f1-4a55-accf-1f160d8ac56f",
   "metadata": {
    "trusted": true
   },
   "outputs": [],
   "source": [
    "# Travel Plan Generation Function\n",
    "def interactive_travel_planner(city: str, interests: str, budget: float):\n",
    "    initial_state = {\n",
    "        \"user_query\": f\"City: {city.strip()}. Interests: {interests.strip()}.\",\n",
    "        \"selected_destination\": city.strip(),\n",
    "        \"trip_itinerary\": [],\n",
    "        \"estimated_cost\": 0.0,\n",
    "        \"user_budget\": budget\n",
    "    }\n",
    "    try:\n",
    "        travel_planner = build_workflow()\n",
    "        final_state = travel_planner.invoke(initial_state)\n",
    "        output = f\"\"\"\n",
    "## Travel Plan for {final_state['selected_destination']}\n",
    "\n",
    "### Itinerary:\n",
    "{final_state['trip_itinerary'][0]}\n",
    "\n",
    "### Estimated Cost: ${final_state['estimated_cost']:.2f}\n",
    "\"\"\"\n",
    "        if final_state['estimated_cost'] > budget:\n",
    "            output += f\"\\nNote: This exceeds your budget by ${final_state['estimated_cost'] - budget:.2f}\"\n",
    "        elif final_state['estimated_cost'] < budget * 0.9:\n",
    "            output += f\"\\nYou'll save ${budget - final_state['estimated_cost']:.2f} under your budget!\"\n",
    "        return output\n",
    "    except Exception as e:\n",
    "        return f\"Error creating plan: {str(e)}\""
   ]
  },
  {
   "cell_type": "code",
   "execution_count": 2,
   "id": "0ba375db-aaca-4713-b1f4-8b266fb9fd6c",
   "metadata": {
    "execution": {
     "iopub.execute_input": "2025-04-23T17:37:46.720472Z",
     "iopub.status.busy": "2025-04-23T17:37:46.720193Z",
     "iopub.status.idle": "2025-04-23T17:49:49.003478Z",
     "shell.execute_reply": "2025-04-23T17:49:49.002659Z",
     "shell.execute_reply.started": "2025-04-23T17:37:46.720447Z"
    },
    "trusted": true
   },
   "outputs": [
    {
     "name": "stdout",
     "output_type": "stream",
     "text": [
      "Enter destination city:  cairo\n",
      "Enter your interests (comma-separated):  food, music, art, history\n",
      "Enter your budget ($):  3000\n"
     ]
    },
    {
     "name": "stdout",
     "output_type": "stream",
     "text": [
      "\n",
      "📋 Generating your travel plan...\n",
      "\n",
      "\n",
      "## Travel Plan for cairo\n",
      "\n",
      "### Itinerary:\n",
      "Day 1:\n",
      "- Morning: Start your day with a visit to the Egyptian Museum to explore the history and art of ancient Egypt. Don't miss the treasures of Tutankhamun.\n",
      "- Lunch: Enjoy a traditional Egyptian meal at Felfela Restaurant, known for its delicious falafel and kebabs.\n",
      "- Afternoon: Visit the Cairo Citadel and explore the historic Saladin Citadel, which offers panoramic views of the city.\n",
      "- Evening: Head to El Sawy Culture Wheel for an evening of live music performances showcasing traditional and contemporary Egyptian music.\n",
      "\n",
      "Day 2:\n",
      "- Morning: Begin your day with a visit to the iconic Giza Pyramids and the Sphinx. Consider taking a camel ride around the pyramids for a unique experience.\n",
      "- Lunch: Have lunch at Naguib Mahfouz Cafe in Khan El Khalili, a historic market area, and try traditional Egyptian dishes.\n",
      "- Afternoon: Explore Khan El Khalili market for shopping and immerse yourself in the vibrant atmosphere of the bazaar.\n",
      "- Evening: Attend a traditional Tanoura dance performance at Wekalet El Ghouri, where you can witness Egyptian folklore music and dance.\n",
      "\n",
      "Day 3:\n",
      "- Morning: Visit the Islamic Cairo district, including the Al-Azhar Mosque and the Al-Muizz Street, known for its historic architecture and cultural significance.\n",
      "- Lunch: Enjoy a meal at Zooba, a trendy restaurant offering modern twists on traditional Egyptian street food.\n",
      "- Afternoon: Explore the Coptic Cairo area, including the Hanging Church and the Ben Ezra Synagogue, to learn about the history of Christianity in Egypt.\n",
      "- Evening: End your trip with a dinner cruise on the Nile River, where you can enjoy a buffet dinner while sailing past Cairo's illuminated skyline.\n",
      "\n",
      "Total estimated cost: \n",
      "- Accommodation: $600 (3 nights in a mid-range hotel)\n",
      "- Meals: $300\n",
      "- Entrance fees and activities: $500\n",
      "- Transportation: $200\n",
      "- Souvenirs and miscellaneous: $200\n",
      "\n",
      "Total estimated cost: $1800\n",
      "\n",
      "This leaves you with $1200 for any additional expenses or unexpected costs. Enjoy your exclusive Cairo experience!\n",
      "\n",
      "### Estimated Cost: $1800.00\n",
      "\n",
      "💰 You'll save $1200.00 under your budget!\n"
     ]
    },
    {
     "name": "stdout",
     "output_type": "stream",
     "text": [
      "\n",
      "Ask your Real-Time Travel Assistant (or type 'exit' to quit):  best restaurants nearby?\n"
     ]
    },
    {
     "name": "stdout",
     "output_type": "stream",
     "text": [
      "\n",
      "Assistant: For some of the best dining experiences in Cairo, here are a few recommendations:\n",
      "\n",
      "1. **Naguib Mahfouz Cafe & Restaurant**: Located in Khan El Khalili, this restaurant offers traditional Egyptian cuisine in a historic setting.\n",
      "\n",
      "2. **Sequoia**: Enjoy delicious Mediterranean dishes with a stunning view of the Nile River at this upscale restaurant.\n",
      "\n",
      "3. **Kazaz**: Known for its authentic Egyptian dishes, Kazaz is a popular spot for locals and tourists alike.\n",
      "\n",
      "4. **Andrea El Mariouteya**: This restaurant offers a unique dining experience in a traditional Egyptian countryside setting.\n",
      "\n",
      "5. **Taboula**: If you're in the mood for Lebanese cuisine, Taboula is a great choice with its tasty dishes and cozy atmosphere.\n",
      "\n",
      "Feel free to let me know if you need more recommendations or have any specific preferences!\n"
     ]
    },
    {
     "name": "stdout",
     "output_type": "stream",
     "text": [
      "\n",
      "Ask your Real-Time Travel Assistant (or type 'exit' to quit):  best holiday destinations\n"
     ]
    },
    {
     "name": "stdout",
     "output_type": "stream",
     "text": [
      "\n",
      "Assistant: When it comes to holiday destinations, Cairo itself has a lot to offer in terms of history, culture, and experiences. However, if you're looking for other destinations to explore during your trip, here are some recommendations:\n",
      "\n",
      "1. **Luxor**: Known as the world's greatest open-air museum, Luxor is home to the stunning Valley of the Kings, Karnak Temple, and Luxor Temple.\n",
      "\n",
      "2. **Aswan**: Explore the beautiful Nile River, visit the Philae Temple, and take a traditional felucca ride in Aswan.\n",
      "\n",
      "3. **Alexandria**: Experience the Mediterranean charm of Alexandria with its historic sites like the Citadel of Qaitbay, Bibliotheca Alexandrina, and Pompey's Pillar.\n",
      "\n",
      "4. **Dahab**: If you're a fan of beach destinations, consider visiting Dahab for its laid-back vibe, great diving spots, and the beautiful Blue Hole.\n",
      "\n",
      "5. **Siwa Oasis**: For a more off-the-beaten-path experience, head to the Siwa Oasis to explore its unique culture, hot springs, and the ancient Oracle Temple of Amun.\n",
      "\n",
      "Each of these destinations offers a different perspective on Egypt's diverse landscapes and attractions. Let me know if you need more information or assistance with planning your holiday itinerary!\n"
     ]
    },
    {
     "name": "stdout",
     "output_type": "stream",
     "text": [
      "\n",
      "Ask your Real-Time Travel Assistant (or type 'exit' to quit):  exit\n"
     ]
    }
   ],
   "source": [
    "#main\n",
    "if __name__ == \"__main__\":\n",
    "    city = input(\"Enter destination city: \")\n",
    "    interests = input(\"Enter your interests (comma-separated): \")\n",
    "    budget = float(input(\"Enter your budget ($): \"))\n",
    "\n",
    "    print(\"\\n Generating your travel plan...\\n\")\n",
    "    plan = interactive_travel_planner(city, interests, budget)\n",
    "    print(plan)\n",
    "\n",
    "    while True:\n",
    "        user_msg = input(\"\\nAsk your Real-Time Travel Assistant (or type 'exit' to quit): \")\n",
    "        if user_msg.lower() == \"exit\":\n",
    "            break\n",
    "        response = real_time_assistant(\n",
    "            {\n",
    "                \"user_query\": f\"City: {city.strip()}. Interests: {interests.strip()}.\",\n",
    "                \"selected_destination\": city.strip() or \"your destination\",\n",
    "                \"trip_itinerary\": [],\n",
    "                \"estimated_cost\": 0.0,\n",
    "                \"user_budget\": budget\n",
    "            },\n",
    "            user_msg\n",
    "        )\n",
    "        print(f\"\\nAssistant: {response}\")\n"
   ]
  },
  {
   "cell_type": "code",
   "execution_count": null,
   "id": "ddf42a4c-11ab-42f9-914f-d1198d2e6105",
   "metadata": {
    "trusted": true
   },
   "outputs": [],
   "source": []
  },
  {
   "cell_type": "code",
   "execution_count": null,
   "id": "4203f905-4f4e-46cd-8f0b-6757699778ad",
   "metadata": {},
   "outputs": [],
   "source": []
  }
 ],
 "metadata": {
  "kaggle": {
   "accelerator": "gpu",
   "dataSources": [],
   "dockerImageVersionId": 31011,
   "isGpuEnabled": true,
   "isInternetEnabled": true,
   "language": "python",
   "sourceType": "notebook"
  },
  "kernelspec": {
   "display_name": "Python 3",
   "language": "python",
   "name": "python3"
  },
  "language_info": {
   "codemirror_mode": {
    "name": "ipython",
    "version": 3
   },
   "file_extension": ".py",
   "mimetype": "text/x-python",
   "name": "python",
   "nbconvert_exporter": "python",
   "pygments_lexer": "ipython3",
   "version": "3.11.11"
  }
 },
 "nbformat": 4,
 "nbformat_minor": 5
}
